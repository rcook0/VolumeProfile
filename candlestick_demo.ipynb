{
 "cells": [
  {
   "cell_type": "markdown",
   "metadata": {},
   "source": [
    "# Candlestick Chart with VP Strategy Signals, SL/TP, and PnL Stats\n",
    "\n",
    "Loads `data.csv`, runs the Volume Profile breakout strategy (Backtrader), overlays BUY/SELL markers, SL/TP lines, and computes PnL for each trade."
   ]
  },
  {
   "cell_type": "code",
   "execution_count": null,
   "metadata": {},
   "outputs": [],
   "source": [
    "!pip install mplfinance plotly pandas backtrader"
   ]
  },
  {
   "cell_type": "code",
   "execution_count": null,
   "metadata": {},
   "outputs": [],
   "source": [
    "import pandas as pd\n",
    "import mplfinance as mpf\n",
    "import plotly.graph_objects as go\n",
    "import backtrader as bt\n",
    "import matplotlib.pyplot as plt"
   ]
  },
  {
   "cell_type": "markdown",
   "metadata": {},
   "source": [
    "## Load the CSV"
   ]
  },
  {
   "cell_type": "code",
   "execution_count": null,
   "metadata": {},
   "outputs": [],
   "source": [
    "df = pd.read_csv(\"data.csv\", parse_dates=[\"datetime\"])\n",
    "df.set_index(\"datetime\", inplace=True)\n",
    "df.head()"
   ]
  },
  {
   "cell_type": "markdown",
   "metadata": {},
   "source": [
    "## Backtrader Strategy (records signals + SL/TP)"
   ]
  },
  {
   "cell_type": "code",
   "execution_count": null,
   "metadata": {},
   "outputs": [],
   "source": [
    "signals = []\n",
    "\n",
    "class VPStrategy(bt.Strategy):\n",
    "    params = dict(tp_rr=2.0)\n",
    "    def next(self):\n",
    "        vah = max(self.data.high.get(size=24))\n",
    "        val = min(self.data.low.get(size=24))\n",
    "        vwap = (self.data.high[0] + self.data.low[0] + self.data.close[0]) / 3\n",
    "\n",
    "        if not self.position:\n",
    "            if self.data.close[0] > vah and self.data.close[0] > vwap:\n",
    "                sl = val\n",
    "                tp = self.data.close[0] + (self.data.close[0] - sl) * self.p.tp_rr\n",
    "                self.buy()\n",
    "                signals.append((self.data.datetime.datetime(0), self.data.close[0], \"BUY\", sl, tp))\n",
    "            elif self.data.close[0] < val and self.data.close[0] < vwap:\n",
    "                sl = vah\n",
    "                tp = self.data.close[0] - (sl - self.data.close[0]) * self.p.tp_rr\n",
    "                self.sell()\n",
    "                signals.append((self.data.datetime.datetime(0), self.data.close[0], \"SELL\", sl, tp))\n",
    "\n",
    "# Run backtest\n",
    "data = bt.feeds.PandasData(dataname=df)\n",
    "cerebro = bt.Cerebro()\n",
    "cerebro.addstrategy(VPStrategy)\n",
    "cerebro.adddata(data)\n",
    "cerebro.run()"
   ]
  },
  {
   "cell_type": "markdown",
   "metadata": {},
   "source": [
    "## Calculate Trade PnL"
   ]
  },
  {
   "cell_type": "code",
   "execution_count": null,
   "metadata": {},
   "outputs": [],
   "source": [
    "trade_results = []\n",
    "\n",
    "for d,p,s,sl,tp in signals:\n",
    "    exit_price = None\n",
    "    # Simple simulation: check which level (SL/TP) would have been hit first\n",
    "    candle = df.loc[d]\n",
    "    if s == \"BUY\":\n",
    "        if candle['low'] <= sl:\n",
    "            exit_price = sl\n",
    "        else:\n",
    "            exit_price = tp\n",
    "    else:  # SELL\n",
    "        if candle['high'] >= sl:\n",
    "            exit_price = sl\n",
    "        else:\n",
    "            exit_price = tp\n",
    "    pnl = (exit_price - p) if s==\"BUY\" else (p - exit_price)\n",
    "    trade_results.append({\n",
    "        \"datetime\": d,\n",
    "        \"type\": s,\n",
    "        \"entry\": p,\n",
    "        \"exit\": exit_price,\n",
    "        \"pnl\": pnl\n",
    "    })\n",
    "\n",
    "df_trades = pd.DataFrame(trade_results)\n",
    "\n",
    "total_trades = len(df_trades)\n",
    "winning_trades = len(df_trades[df_trades['pnl']>0])\n",
    "losing_trades = len(df_trades[df_trades['pnl']<=0])\n",
    "total_pnl = df_trades['pnl'].sum()\n",
    "\n",
    "print(f\"Total trades: {total_trades}\")\n",
    "print(f\"Winning trades: {winning_trades}\")\n",
    "print(f\"Losing trades: {losing_trades}\")\n",
    "print(f\"Total PnL: {total_pnl:.5f}\\n\")\n",
    "\n",
    "df_trades.head(10)"
   ]
  },
  {
   "cell_type": "markdown",
   "metadata": {},
   "source": [
    "## Static Candlestick (mplfinance) with Signals + SL/TP"
   ]
  },
  {
   "cell_type": "code",
   "execution_count": null,
   "metadata": {},
   "outputs": [],
   "source": [
    "df_plot = df.tail(200).copy()\n",
    "apds = []\n",
    "\n",
    "for d,p,s,sl,tp in signals:\n",
    "    if d in df_plot.index:\n",
    "        if s == \"BUY\":\n",
    "            apds.append(mpf.make_addplot([p], type='scatter', markersize=100, marker='^', color='g', panel=0))\n",
    "        else:\n",
    "            apds.append(mpf.make_addplot([p], type='scatter', markersize=100, marker='v', color='r', panel=0))\n",
    "        df_plot.loc[:, f\"SL_{d}\"] = sl\n",
    "        df_plot.loc[:, f\"TP_{d}\"] = tp\n",
    "        apds.append(mpf.make_addplot(df_plot[f\"SL_{d}\"], color='red', linestyle='--'))\n",
    "        apds.append(mpf.make_addplot(df_plot[f\"TP_{d}\"], color='green', linestyle='--'))\n",
    "\n",
    "mpf.plot(df_plot, type=\"candle\", style=\"yahoo\", volume=True, mav=(20,50), addplot=apds)"
   ]
  },
  {
   "cell_type": "markdown",
   "metadata": {},
   "source": [
    "## Interactive Candlestick (Plotly) with Signals + SL/TP"
   ]
  },
  {
   "cell_type": "code",
   "execution_count": null,
   "metadata": {},
   "outputs": [],
   "source": [
    "fig = go.Figure(data=[go.Candlestick(\n",
    "    x=df.index,\n",
    "    open=df[\"open\"],\n",
    "    high=df[\"high\"],\n",
    "    low=df[\"low\"],\n",
    "    close=df[\"close\"]\n",
    ")])\n",
    "\n",
    "for d,p,s,sl,tp in signals:\n",
    "    color = 'green' if s==\"BUY\" else 'red'\n",
    "    symbol = 'triangle-up' if s==\"BUY\" else 'triangle-down'\n",
    "    fig.add_trace(go.Scatter(x=[d], y=[p], mode=\"markers\", marker_symbol=symbol, marker_size=12, marker_color=color, name=s))\n",
    "    fig.add_hline(y=sl, line=dict(color='red', dash='dot'))\n",
    "    fig.add_hline(y=tp, line=dict(color='green', dash='dot'))\n",
    "\n",
    "fig.update_layout(xaxis_rangeslider_visible=False, template=\"plotly_dark\")\n",
    "fig.show()"
   ]
  }
 ],
 "metadata": {
  "kernelspec": {
   "display_name": "Python 3",
   "language": "python",
   "name": "python3"
  },
  "language_info": {
   "name": "python",
   "version": "3.9"
  }
 },
 "nbformat": 4,
 "nbformat_minor": 2
}
